{
 "cells": [
  {
   "cell_type": "markdown",
   "id": "8163daf4",
   "metadata": {},
   "source": [
    "# HW02: Practice with logistic regression and decision tree\n",
    "\n",
    "Name:Zhuoyu Jiang\n",
    "NetId:zjiang299"
   ]
  },
  {
   "cell_type": "markdown",
   "id": "4fdedd9b",
   "metadata": {},
   "source": [
    "## Hello Students:\n",
    "\n",
    "- Start by downloading HW02.ipynb from this folder. Then develop it into your solution.\n",
    "- Write code where you see \"... your code here ...\" below.\n",
    "  (You are welcome to use more than one cell.)\n",
    "- If you have questions, please ask them in class, office hours, or piazza. Our TA\n",
    "  and I are very happy to help with the programming (provided you start early\n",
    "  enough, and provided we are not helping so much that we undermine your learning).\n",
    "- When you are done, run these Notebook commands:\n",
    "  - Shift-L (once, so that line numbers are visible)\n",
    "  - Kernel > Restart and Run All (run all cells from scratch)\n",
    "  - Esc S (save)\n",
    "  - File > Download as > HTML\n",
    "- Turn in:\n",
    "  - HW02.ipynb to Canvas's HW02.ipynb assignment\n",
    "  - HW02.html to Canvas's HW02.html assignment\n",
    "  - As a check, download your files from Canvas to a new 'junk' folder. Try 'Kernel > Restart\n",
    "  and Run All' on the '.ipynb' file to make sure it works. Glance through the '.html' file.\n",
    "- Turn in partial solutions to Canvas before the deadline. e.g. Turn in part 1,\n",
    "  then parts 1 and 2, then your whole solution. That way we can award partial credit\n",
    "  even if you miss the deadline. We will grade your last submission before the deadline."
   ]
  },
  {
   "cell_type": "code",
   "execution_count": 56,
   "id": "f6a87448",
   "metadata": {},
   "outputs": [],
   "source": [
    "import pandas as pd\n",
    "import numpy as np\n",
    "from sklearn import linear_model\n",
    "import matplotlib.pyplot as plt\n",
    "from sklearn.tree import DecisionTreeClassifier\n",
    "from sklearn import tree\n"
   ]
  },
  {
   "cell_type": "markdown",
   "id": "f90946b9",
   "metadata": {},
   "source": [
    "# 1. Logistic regression"
   ]
  },
  {
   "cell_type": "markdown",
   "id": "0c5d8fa5",
   "metadata": {},
   "source": [
    "# 1a. Make a logistic regression model\n",
    "relating the probability an iris has Species='virginica' to its 'Petal.Length'\n",
    "and classifying irises as 'virginica' or not 'virginica' (i.e. 'versicolor').\n",
    "- Read [http://www.stat.wisc.edu/~jgillett/451/data/iris.csv](http://www.stat.wisc.edu/~jgillett/451/data/iris.csv) into a DataFrame.\n",
    "- Make a second data frame that excludes the 'setosa' rows (leaving the 'virginica' and 'versicolor' rows) and includes only the Petal.Length and Species columns.\n",
    "- Use `linear_model.LogisticRegression(C=1000)` so we all get the same results (they vary with `C`).\n",
    "- Train the model using $X=$ petal length and $y=$ whether the Species is 'virginica'.\n",
    "  (I used \"y = (df['Species'] == 'virginica').to_numpy().astype(int)\",\n",
    "  which sets y to zeros and ones.)\n",
    "- Report its accuracy on the training data.\n",
    "- Report the estimated P(Species=virginica | Petal.Length=5).\n",
    "- Report the predicited Species for Petal.Length=5.\n",
    "- Make a plot showing:\n",
    "  - the data points\n",
    "  - the estimated logistic curve\n",
    "  - and what I have called the \"sample proportion\" of y == 1 at each unique Petal.Length value\n",
    "  - a legend and title and other labels necessary to make the plot easy to read"
   ]
  },
  {
   "cell_type": "code",
   "execution_count": 45,
   "id": "248a1006",
   "metadata": {},
   "outputs": [
    {
     "name": "stdout",
     "output_type": "stream",
     "text": [
      "The accuracy is  0.9533333333333334\n",
      "P(Species=virginica | Petal.Length=5) =  0.7725391826769191\n",
      "The predicited Species for Petal.Length=5:  virginca\n"
     ]
    }
   ],
   "source": [
    "url = 'http://www.stat.wisc.edu/~jgillett/451/data/iris.csv'\n",
    "df = pd.read_csv(url)\n",
    "df_new = df.loc[df['Species'].isin(['versicolor', 'virginica']), ['Petal.Length', 'Species']]\n",
    "X = df[['Petal.Length']].values\n",
    "y = (df['Species'] == 'virginica').to_numpy().astype(int)\n",
    "model = linear_model.LogisticRegression(C=1000)\n",
    "model.fit(X,y)\n",
    "accuracy = model.score(X,y)\n",
    "print('The accuracy is ', accuracy)\n",
    "p_virginica=model.predict_proba([[5]])[:,1][0]\n",
    "print('P(Species=virginica | Petal.Length=5) = ',p_virginica)\n",
    "predict_species= 'virginca' if p_virginica>=0.5 else 'versicolor'\n",
    "print('The predicited Species for Petal.Length=5: ', predict_species)"
   ]
  },
  {
   "cell_type": "code",
   "execution_count": 50,
   "outputs": [
    {
     "data": {
      "text/plain": "array([[0.22746082, 0.77253918]])"
     },
     "execution_count": 50,
     "metadata": {},
     "output_type": "execute_result"
    }
   ],
   "source": [
    "p_virginica=model.predict_proba([[5]])\n",
    "p_virginica"
   ],
   "metadata": {
    "collapsed": false
   }
  },
  {
   "cell_type": "code",
   "execution_count": 33,
   "outputs": [
    {
     "data": {
      "text/plain": "<Figure size 576x432 with 1 Axes>",
      "image/png": "[encoded data removed]"
     },
     "metadata": {},
     "output_type": "display_data"
    }
   ],
   "source": [
    "petal_len_grid = np.linspace(X.min(), X.max(), 1000).reshape(-1, 1)\n",
    "prob_grid = model.predict_proba(petal_len_grid)[:, 1]\n",
    "proportion = df.groupby('Petal.Length')['Species'].apply(lambda x: np.mean(x == 'virginica')).values\n",
    "fig, ax = plt.subplots(figsize=(8,6))\n",
    "ax.scatter(X, y, alpha=0.8, edgecolor='k', label='Data Points')\n",
    "ax.plot(petal_len_grid, prob_grid, 'g-', linewidth=2, label='Logistic Curve')\n",
    "ax.plot(np.unique(X), proportion, 'ro', markersize=4, label='Sample Proportion')\n",
    "ax.set_xlabel('Petal Length')\n",
    "ax.set_ylabel('Species (0=versicolor, 1=virginica)')\n",
    "ax.set_title('Logistic Regression on Iris Dataset')\n",
    "ax.legend(loc='best')\n",
    "plt.show()"
   ],
   "metadata": {
    "collapsed": false
   }
  },
  {
   "cell_type": "markdown",
   "id": "bac5562e",
   "metadata": {},
   "source": [
    "## 1b. Do some work with logistic regression by hand.\n",
    "Consider the logistic regression model, $P(y\n",
    "_i = 1) = \\frac{1}{1 + e^{-(\\mathbf{w x} + b)}}\\,.$\n",
    "\n",
    "Logistic regression is named after the log-odds of success, $\\ln\n",
    "  \\frac{p}{1 - p}$, where $p = P(y_i = 1)$. Show that this log-odds\n",
    "  equals $\\mathbf{w x} + b$. (That is, start with $\\ln\n",
    "  \\frac{p}{1 - p}$ and connect it in a series of equalities to $\\mathbf{w x} + b$.)\n",
    "  "
   ]
  },
  {
   "cell_type": "markdown",
   "id": "cbc0b73b",
   "metadata": {},
   "source": [
    "#### ... your Latex math in a Markdown cell here ...\n",
    "\n",
    "$\\begin{align*} % In this Latex context, \"&\" separates columns and \"\\\\\" ends a line.\n",
    "   \\ln \\frac{p}{1 - p} & = lnp+ln(1-p)\\\\\n",
    "    & = -ln(1+e^{-(wx+b)})-(ln(e^{-(wx+b)})-ln(1+e^{-(wx+b)}))\\\\\n",
    "    & = -ln(e^{-(wx+b)})\\\\\n",
    "    & = \\mathbf{w x} + b\\\\\n",
    " \\end{align*}\n",
    "$"
   ]
  },
  {
   "cell_type": "markdown",
   "id": "b9e79535",
   "metadata": {},
   "source": [
    "### 1c. Do some more work with logistic regression by hand.\n",
    "\n",
    "I ran some Python/scikit-learn code to make the model pictured here: ![](toyLogistic.png)\n",
    "\n",
    "From the image and without the help of running code, match each code line from the top list with its output from the bottom list.\n",
    "\n",
    "1. `model.intercept_`\n",
    "2. `model.coef_`\n",
    "3. `model.predict(X)`\n",
    "4. `model.predict_proba(X)[:, 1]`\n",
    "\n",
    "A. `array([0, 0, 0, 1])`,\n",
    "B. `array([0.003, 0.5, 0.5, 0.997])`,\n",
    "C. `array([5.832])`,\n",
    "D. `array([0.])`"
   ]
  },
  {
   "cell_type": "markdown",
   "source": [
    "1:D,2:c,3:A,4:B"
   ],
   "metadata": {
    "collapsed": false
   }
  },
  {
   "cell_type": "markdown",
   "id": "006bb6a9",
   "metadata": {},
   "source": [
    "# 2. Decision tree"
   ]
  },
  {
   "cell_type": "markdown",
   "id": "a82c49b8",
   "metadata": {},
   "source": [
    "## 2a. Make a decision tree model on a Titanic data set.\n",
    "Read the data from [http://www.stat.wisc.edu/~jgillett/451/data/kaggle_titanic_train.csv](http://www.stat.wisc.edu/~jgillett/451/data/kaggle_titanic_train.csv).\n",
    "\n",
    "These data are described at [https://www.kaggle.com/competitions/titanic/data](https://www.kaggle.com/competitions/titanic/data) (click on the small down-arrow to see the \"Data Dictionary\"), which is where they are from.\n",
    "\n",
    "- Retain only the Survived, Pclass, Sex, and Age columns.\n",
    "- Display the  first seven rows (passengers).\n",
    "  Notice that the Age column includes NaN, indicating a missing value.\n",
    "- Drop rows with missing data via `df.dropna()`. Display your data frame's shape before\n",
    "  and after dropping rows. (It should be (714, 4) after dropping rows.)\n",
    "- Add a column called 'Female' that indicates whether a passenger is Female. You can make this column via `df.Sex == 'female'`. This gives bool values True and False, which are interpreted as 1 and 0 when used in an arithmetic context.\n",
    "- Train a decision tree with `max_depth=None` to decided whether a passenger\n",
    "  `Survived` from the other three columns. Report its accuracy (with 3 decimal places)\n",
    "  on training data along with the tree's depth (which is available in `clf.tree_.max_depth`).\n",
    "- Train another tree with `max_depth=2`. Report its accuracy (with 3 decimal places).\n",
    "  Use `tree.plot_tree()` to display it, including feature_names to make the tree easy to read."
   ]
  },
  {
   "cell_type": "code",
   "execution_count": 55,
   "id": "c8c242d6",
   "metadata": {},
   "outputs": [
    {
     "name": "stdout",
     "output_type": "stream",
     "text": [
      "   Survived  Pclass     Sex   Age\n",
      "0         0       3    male  22.0\n",
      "1         1       1  female  38.0\n",
      "2         1       3  female  26.0\n",
      "3         1       1  female  35.0\n",
      "4         0       3    male  35.0\n",
      "5         0       3    male   NaN\n",
      "6         0       1    male  54.0\n",
      "Data frame shape after dropping rows: (714, 4)\n",
      "Accuracy on training data with max_depth=None: 0.896\n",
      "Tree depth: 15\n",
      "Accuracy on training data with max_depth=2: 0.803\n"
     ]
    },
    {
     "data": {
      "text/plain": "[Text(0.5, 0.8333333333333334, 'Female <= 0.5\\ngini = 0.482\\nsamples = 714\\nvalue = [424, 290]\\nclass = Did not survive'),\n Text(0.25, 0.5, 'Age <= 6.5\\ngini = 0.326\\nsamples = 453\\nvalue = [360, 93]\\nclass = Did not survive'),\n Text(0.125, 0.16666666666666666, 'gini = 0.444\\nsamples = 24\\nvalue = [8, 16]\\nclass = Survived'),\n Text(0.375, 0.16666666666666666, 'gini = 0.295\\nsamples = 429\\nvalue = [352, 77]\\nclass = Did not survive'),\n Text(0.75, 0.5, 'Pclass <= 2.5\\ngini = 0.37\\nsamples = 261\\nvalue = [64, 197]\\nclass = Survived'),\n Text(0.625, 0.16666666666666666, 'gini = 0.107\\nsamples = 159\\nvalue = [9, 150]\\nclass = Survived'),\n Text(0.875, 0.16666666666666666, 'gini = 0.497\\nsamples = 102\\nvalue = [55, 47]\\nclass = Did not survive')]"
     },
     "execution_count": 55,
     "metadata": {},
     "output_type": "execute_result"
    },
    {
     "data": {
      "text/plain": "<Figure size 432x288 with 1 Axes>",
      "image/png": "[encoded data removed]"
     },
     "metadata": {},
     "output_type": "display_data"
    }
   ],
   "source": [
    "# Read the data\n",
    "url = \"http://www.stat.wisc.edu/~jgillett/451/data/kaggle_titanic_train.csv\"\n",
    "df = pd.read_csv(url)\n",
    "\n",
    "# Retain only the desired columns\n",
    "df = df[['Survived', 'Pclass', 'Sex', 'Age']]\n",
    "\n",
    "# Display the first 7 rows\n",
    "print(df.head(7))\n",
    "\n",
    "# Drop rows with missing data\n",
    "df = df.dropna()\n",
    "print(\"Data frame shape after dropping rows:\", df.shape)\n",
    "\n",
    "# Add a column 'Female'\n",
    "df['Female'] = (df['Sex'] == 'female').astype(int)\n",
    "\n",
    "# Train a decision tree with max_depth=None\n",
    "X = df[['Pclass', 'Age', 'Female']]\n",
    "y = df['Survived']\n",
    "clf = DecisionTreeClassifier(max_depth=None, random_state=0)\n",
    "clf.fit(X, y)\n",
    "train_acc = clf.score(X, y)\n",
    "tree_depth = clf.tree_.max_depth\n",
    "print(\"Accuracy on training data with max_depth=None:\", round(train_acc, 3))\n",
    "print(\"Tree depth:\", tree_depth)\n",
    "\n",
    "# Train another tree with max_depth=2 and plot it\n",
    "clf2 = DecisionTreeClassifier(max_depth=2, random_state=0)\n",
    "clf2.fit(X, y)\n",
    "train_acc2 = clf2.score(X, y)\n",
    "print(\"Accuracy on training data with max_depth=2:\", round(train_acc2, 3))\n",
    "\n",
    "# Plot the decision tree\n",
    "feature_names = ['Pclass', 'Age', 'Female']\n",
    "class_names = ['Did not survive', 'Survived']\n",
    "tree.plot_tree(clf2, feature_names=feature_names, class_names=class_names, filled=True)"
   ]
  },
  {
   "cell_type": "markdown",
   "id": "92388657",
   "metadata": {},
   "source": [
    "## 2b. Which features are used in the (max_depth=2) decision-making? Answer in a markdown cell."
   ]
  },
  {
   "cell_type": "markdown",
   "source": [
    "`Pclass`,`Female`"
   ],
   "metadata": {
    "collapsed": false
   }
  },
  {
   "cell_type": "markdown",
   "id": "aa128a8c",
   "metadata": {},
   "source": [
    " ## 2c. What proportion (in the cleaned-up data) of females survived? What proportion of males survived?\n",
    " Answer in two sentences via print(), with each proportion rounded to three decimal places.\n",
    " \n",
    " Hint: There are many ways to do this. One quick way is to find the average of the `Female`\n",
    " column for each subset."
   ]
  },
  {
   "cell_type": "code",
   "execution_count": 57,
   "id": "700852b6",
   "metadata": {},
   "outputs": [
    {
     "name": "stdout",
     "output_type": "stream",
     "text": [
      "Proportion of females who survived: 0.7547892720306514\n",
      "Proportion of males who survived: 0.2052980132450331\n"
     ]
    }
   ],
   "source": [
    "url = 'http://www.stat.wisc.edu/~jgillett/451/data/kaggle_titanic_train.csv'\n",
    "df = pd.read_csv(url)\n",
    "df = df[['Survived', 'Pclass', 'Sex', 'Age']]\n",
    "df.dropna(inplace=True)\n",
    "df['Female'] = (df['Sex'] == 'female').astype(int)\n",
    "survival_props = df.groupby('Sex')['Survived'].mean()\n",
    "\n",
    "print('Proportion of females who survived:', survival_props['female'])\n",
    "print('Proportion of males who survived:', survival_props['male'])"
   ]
  },
  {
   "cell_type": "markdown",
   "id": "8fee52c3",
   "metadata": {},
   "source": [
    "## 2d. Do some decision tree calculations by hand.\n",
    "Consider a decision tree node containing the following set of examples $S =\n",
    "\\{(\\mathbf{x}, y)\\}$ where $\\mathbf{x} = (x_1, x_2)$:\n",
    "\n",
    "((4, 9), 1)\n",
    "\n",
    "((2, 6), 0)\n",
    "\n",
    "((5, 7), 0)\n",
    "\n",
    "((3, 8), 1)\n",
    "\n",
    "Find the entropy of $S$."
   ]
  },
  {
   "cell_type": "markdown",
   "source": [
    "Proportion of class 0: 2/4 = 0.5\n",
    "Proportion of class 1: 2/4 = 0.5\n",
    "The entropy of S is then given by the formula:\n",
    "\n",
    "$$H(S) = - \\sum_{i=1}^{c} p_i \\log_2 p_i$$\n",
    "\n",
    "where c is the number of classes, and p_i is the proportion of examples in S that belong to class i.\n",
    "\n",
    "Plugging in the values we computed above, we get:\n",
    "\n",
    "$$H(S) = - \\left(0.5 \\log_2 0.5 + 0.5 \\log_2 0.5 \\right) = 1$$\n",
    "\n",
    "So the entropy of S is 1."
   ],
   "metadata": {
    "collapsed": false
   }
  },
  {
   "cell_type": "markdown",
   "id": "62982e16",
   "metadata": {},
   "source": [
    " ## 2e. Do some more decision tree calculations by hand.\n",
    "Find a (feature, threshold) pair that yields the best split for this node."
   ]
  },
  {
   "cell_type": "markdown",
   "source": [
    "In this case, we have two features, x1 and x2. We can try all possible thresholds for each feature, but since there are only four examples, it's easy to see that the best split is achieved by splitting on x1 = 3.5. Specifically, the split is:\n",
    "\n",
    "Examples with x1 <= 3.5: ((2, 6), 0)\n",
    "Examples with x1 > 3.5: ((4, 9), 1), ((5, 7), 0), ((3, 8), 1)\n",
    "This split achieves an information gain of 0.5, which is the maximum possible given the proportions of classes in the node. We can verify this by computing the entropy of each child node and taking a weighted average:\n",
    "\n",
    "Entropy of child node with x1 <= 3.5: - (1/1) log2 (1/1) - (0/1) log2 (0/1) = 0\n",
    "Entropy of child node with x1 > 3.5: - (1/3) log2 (1/3) - (2/3) log2 (2/3) = 0.9183\n",
    "Weighted average entropy: (1/4) * 0 + (3/4) * 0.9183 = 0.6887\n",
    "Information gain: 1 - 0.6887 = 0.3113\n",
    "So the best (feature, threshold) pair for splitting this node is (x1, 3.5)."
   ],
   "metadata": {
    "collapsed": false
   }
  },
  {
   "cell_type": "code",
   "execution_count": null,
   "outputs": [],
   "source": [],
   "metadata": {
    "collapsed": false
   }
  }
 ],
 "metadata": {
  "celltoolbar": "Tags",
  "kernelspec": {
   "display_name": "Python 3 (ipykernel)",
   "language": "python",
   "name": "python3"
  },
  "language_info": {
   "codemirror_mode": {
    "name": "ipython",
    "version": 3
   },
   "file_extension": ".py",
   "mimetype": "text/x-python",
   "name": "python",
   "nbconvert_exporter": "python",
   "pygments_lexer": "ipython3",
   "version": "3.9.7"
  }
 },
 "nbformat": 4,
 "nbformat_minor": 5
}
