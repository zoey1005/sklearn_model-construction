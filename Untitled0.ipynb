{
  "nbformat": 4,
  "nbformat_minor": 0,
  "metadata": {
    "colab": {
      "provenance": []
    },
    "kernelspec": {
      "name": "python3",
      "display_name": "Python 3"
    },
    "language_info": {
      "name": "python"
    }
  },
  "cells": [
    {
      "cell_type": "code",
      "source": [
        "#!pip install d2l==0.17.0\n",
        "%matplotlib inline\n",
        "import random\n",
        "import numpy as np\n",
        "import tensorflow as tf\n",
        "# from d2l import tensorflow as d2l\n",
        "# for easier reading np\n",
        "np.set_printoptions(precision=4,suppress=True)"
      ],
      "metadata": {
        "id": "JjlkRJThGKCJ"
      },
      "execution_count": 1,
      "outputs": []
    },
    {
      "cell_type": "code",
      "source": [
        "def synthetic_data(w, b, num_examples):\n",
        "    \"\"\"Generate y = Xw + b + noise.\"\"\"\n",
        "    X = tf.zeros((num_examples, w.shape[0]))\n",
        "    X += tf.random.normal(shape=X.shape)\n",
        "    y = tf.matmul(X, tf.reshape(w, (-1, 1))) + b\n",
        "    y += tf.random.normal(shape=y.shape, stddev=0.01)\n",
        "    y = tf.reshape(y, (-1, 1))\n",
        "    return X, y"
      ],
      "metadata": {
        "id": "04zpFI7WFUa3"
      },
      "execution_count": 2,
      "outputs": []
    },
    {
      "cell_type": "code",
      "source": [
        "def data_iter(batch_size, features, labels):\n",
        "    num_examples = len(features)\n",
        "    indices = list(range(num_examples))\n",
        "    # The examples are read at random, in no particular order\n",
        "    random.shuffle(indices)\n",
        "    for i in range(0, num_examples, batch_size):\n",
        "        j = tf.constant(indices[i:min(i + batch_size, num_examples)])\n",
        "        yield tf.gather(features, j), tf.gather(labels, j)"
      ],
      "metadata": {
        "id": "_f4ygIrjGaGz"
      },
      "execution_count": 3,
      "outputs": []
    },
    {
      "cell_type": "code",
      "source": [
        "def linreg(X, w, b): \n",
        "    \"\"\"The linear regression model.\"\"\"\n",
        "    return tf.matmul(X, w) + b"
      ],
      "metadata": {
        "id": "2Tx5SUheGgau"
      },
      "execution_count": 4,
      "outputs": []
    },
    {
      "cell_type": "code",
      "source": [
        "def squared_loss(y_hat, y):\n",
        "    \"\"\"Squared loss.\"\"\"\n",
        "    return (y_hat - tf.reshape(y, y_hat.shape))**2 / 2"
      ],
      "metadata": {
        "id": "PbYqVAdHGh5k"
      },
      "execution_count": 5,
      "outputs": []
    },
    {
      "cell_type": "code",
      "source": [
        "def sgd(params, grads, lr, batch_size):\n",
        "    \"\"\"Minibatch stochastic gradient descent.\"\"\"\n",
        "    for param, grad in zip(params, grads):\n",
        "        param.assign_sub(lr * grad / batch_size)"
      ],
      "metadata": {
        "id": "5hgbaZhOGlXG"
      },
      "execution_count": 6,
      "outputs": []
    },
    {
      "cell_type": "code",
      "source": [
        "import pandas as pd\n",
        "from sklearn.linear_model import LinearRegression\n",
        "model = LinearRegression()\n",
        "df = pd.read_csv('iris.csv', header = None)\n",
        "X = df.iloc[:,:3].values\n",
        "y=df.iloc[:,3]\n",
        "model.fit(X,y)\n",
        "\n",
        "print(type(model.coef_))\n",
        "print(type(model.intercept_))"
      ],
      "metadata": {
        "colab": {
          "base_uri": "https://localhost:8080/"
        },
        "id": "3I9tf-I2GxKy",
        "outputId": "50d3e102-dbac-491d-e7a5-913dae5384e7"
      },
      "execution_count": 7,
      "outputs": [
        {
          "output_type": "stream",
          "name": "stdout",
          "text": [
            "<class 'numpy.ndarray'>\n",
            "<class 'numpy.float64'>\n"
          ]
        }
      ]
    },
    {
      "cell_type": "code",
      "source": [
        "w = tf.Variable(tf.random.normal(shape=(3, 1), mean=0, stddev=0.01),\n",
        "                trainable=True)\n",
        "b = tf.Variable(tf.zeros(1), trainable=True)\n",
        "true_w = tf.constant(model.coef_.tolist())\n",
        "true_b = model.intercept_"
      ],
      "metadata": {
        "id": "YOd7skzfKTs1"
      },
      "execution_count": 8,
      "outputs": []
    },
    {
      "cell_type": "code",
      "source": [
        "print(f'error in estimating w: {true_w - tf.reshape(w, true_w.shape)}')\n",
        "print(f'error in estimating b: {true_b - b}')"
      ],
      "metadata": {
        "colab": {
          "base_uri": "https://localhost:8080/"
        },
        "id": "gJtP2fFkGuKG",
        "outputId": "f28e81fd-49e1-421b-932b-daeaf17a0ee1"
      },
      "execution_count": 9,
      "outputs": [
        {
          "output_type": "stream",
          "name": "stdout",
          "text": [
            "error in estimating w: [-0.2123  0.2309  0.529 ]\n",
            "error in estimating b: [-0.2487]\n"
          ]
        }
      ]
    },
    {
      "cell_type": "code",
      "source": [
        "features, labels = synthetic_data(true_w, true_b, 1000)"
      ],
      "metadata": {
        "id": "hSJO0_rAH1AH"
      },
      "execution_count": 10,
      "outputs": []
    },
    {
      "cell_type": "code",
      "source": [
        "print('features:', features[0], '\\nlabel:', labels[0])"
      ],
      "metadata": {
        "colab": {
          "base_uri": "https://localhost:8080/"
        },
        "id": "hoHjUuDTIbIy",
        "outputId": "617abf42-3575-45b2-fa62-68ea8148b798"
      },
      "execution_count": 11,
      "outputs": [
        {
          "output_type": "stream",
          "name": "stdout",
          "text": [
            "features: tf.Tensor([-1.2752  0.9812  1.0407], shape=(3,), dtype=float32) \n",
            "label: tf.Tensor([0.792], shape=(1,), dtype=float32)\n"
          ]
        }
      ]
    },
    {
      "cell_type": "code",
      "source": [
        "batch_size = 10\n",
        "\n",
        "for X, y in data_iter(batch_size, features, labels):\n",
        "    print(X, '\\n', y)\n",
        "    break"
      ],
      "metadata": {
        "colab": {
          "base_uri": "https://localhost:8080/"
        },
        "id": "9THopxLELEZ_",
        "outputId": "10887826-fdd1-40d2-fb5c-2d358b58b007"
      },
      "execution_count": 12,
      "outputs": [
        {
          "output_type": "stream",
          "name": "stdout",
          "text": [
            "tf.Tensor(\n",
            "[[ 0.2188 -0.7168  0.1262]\n",
            " [ 0.7467  1.1729  0.3659]\n",
            " [-0.0081 -0.7518  0.5275]\n",
            " [ 1.4754  0.89    0.0463]\n",
            " [-0.3677  1.0225  0.576 ]\n",
            " [-0.2409 -0.5886 -0.768 ]\n",
            " [ 0.0986  0.9748 -0.7762]\n",
            " [ 0.4281 -0.9701  0.4079]\n",
            " [-2.129  -0.8082 -0.6359]\n",
            " [ 1.636   0.8648 -0.7374]], shape=(10, 3), dtype=float32) \n",
            " tf.Tensor(\n",
            "[[-0.386 ]\n",
            " [ 0.0684]\n",
            " [-0.1255]\n",
            " [-0.3259]\n",
            " [ 0.3759]\n",
            " [-0.727 ]\n",
            " [-0.456 ]\n",
            " [-0.336 ]\n",
            " [-0.3207]\n",
            " [-0.7733]], shape=(10, 1), dtype=float32)\n"
          ]
        }
      ]
    },
    {
      "cell_type": "code",
      "source": [
        "lr = 0.03\n",
        "num_epochs = 3\n",
        "net = linreg\n",
        "loss = squared_loss"
      ],
      "metadata": {
        "id": "Gx3QPhHyL7Y7"
      },
      "execution_count": 13,
      "outputs": []
    },
    {
      "cell_type": "code",
      "source": [
        "for epoch in range(num_epochs):\n",
        "    for X, y in data_iter(batch_size, features, labels):\n",
        "        with tf.GradientTape() as g:\n",
        "            l = loss(net(X, w, b), y)  # Minibatch loss in `X` and `y`\n",
        "        # Compute gradient on l with respect to [`w`, `b`]\n",
        "        dw, db = g.gradient(l, [w, b])\n",
        "        # Update parameters using their gradient\n",
        "        sgd([w, b], [dw, db], lr, batch_size)\n",
        "    train_l = loss(net(features, w, b), labels)\n",
        "    print(f'epoch {epoch + 1}, loss {float(tf.reduce_mean(train_l)):f}')"
      ],
      "metadata": {
        "colab": {
          "base_uri": "https://localhost:8080/"
        },
        "id": "Tqw5zZmEMD3s",
        "outputId": "f4e2e4f2-db6b-4877-8e2d-3a624f3f692d"
      },
      "execution_count": 14,
      "outputs": [
        {
          "output_type": "stream",
          "name": "stdout",
          "text": [
            "epoch 1, loss 0.000549\n",
            "epoch 2, loss 0.000053\n",
            "epoch 3, loss 0.000051\n"
          ]
        }
      ]
    },
    {
      "cell_type": "code",
      "source": [
        "print(f'error in estimating w: {true_w - tf.reshape(w, true_w.shape)}')\n",
        "print(f'error in estimating b: {true_b - b}')"
      ],
      "metadata": {
        "colab": {
          "base_uri": "https://localhost:8080/"
        },
        "id": "suljd2IQMJsP",
        "outputId": "003805cb-e849-480e-eb3d-8c78dfcf523c"
      },
      "execution_count": 15,
      "outputs": [
        {
          "output_type": "stream",
          "name": "stdout",
          "text": [
            "error in estimating w: [ 0.0005 -0.0004 -0.0005]\n",
            "error in estimating b: [-0.0001]\n"
          ]
        }
      ]
    },
    {
      "cell_type": "code",
      "source": [
        "from sklearn.metrics import r2_score"
      ],
      "metadata": {
        "id": "usKJgm9GMje_"
      },
      "execution_count": 16,
      "outputs": []
    },
    {
      "cell_type": "code",
      "source": [
        "r2 = r2_score(labels, net(features, w, b))\n",
        "print('r2 score for perfect model is', r2)"
      ],
      "metadata": {
        "colab": {
          "base_uri": "https://localhost:8080/"
        },
        "id": "aVM89rGPQDh_",
        "outputId": "57c3b4e9-af81-4d2e-c92e-c6956c1a3091"
      },
      "execution_count": 17,
      "outputs": [
        {
          "output_type": "stream",
          "name": "stdout",
          "text": [
            "r2 score for perfect model is 0.9997272857538124\n"
          ]
        }
      ]
    },
    {
      "cell_type": "code",
      "source": [],
      "metadata": {
        "id": "jnKlS6igQSwu"
      },
      "execution_count": 17,
      "outputs": []
    },
    {
      "cell_type": "code",
      "source": [],
      "metadata": {
        "id": "E26x6FE1T8Kc"
      },
      "execution_count": 17,
      "outputs": []
    },
    {
      "cell_type": "code",
      "source": [],
      "metadata": {
        "id": "Spg5u9DbTcms"
      },
      "execution_count": 17,
      "outputs": []
    }
  ]
}